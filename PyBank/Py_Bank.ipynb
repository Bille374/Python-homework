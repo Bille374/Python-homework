{
 "cells": [
  {
   "cell_type": "code",
   "execution_count": 165,
   "id": "285ef667",
   "metadata": {},
   "outputs": [],
   "source": [
    "import pandas as pd\n",
    "import csv\n",
    "from csv import reader\n"
   ]
  },
  {
   "cell_type": "code",
   "execution_count": 166,
   "id": "5e897a7c",
   "metadata": {},
   "outputs": [],
   "source": [
    "#   Financial Analysis\n",
    "#   ----------------------------\n",
    "#   Total Months: 86\n",
    "#   Total: $38382578\n",
    "#   Average  Change: $-2315.12\n",
    "#   Greatest Increase in Profits: Feb-2012 ($1926159)\n",
    "#   Greatest Decrease in Profits: Sep-2013 ($-2196167)"
   ]
  },
  {
   "cell_type": "markdown",
   "id": "36f2e6c3",
   "metadata": {},
   "source": [
    "# 1. budget_data:\n",
    "1. Read and Manipulate Data\n"
   ]
  },
  {
   "cell_type": "code",
   "execution_count": 167,
   "id": "c9b0bb57",
   "metadata": {},
   "outputs": [],
   "source": [
    "path = \"C:\\\\Users\\\\eszczepalink\\\\Downloads\\\\Starter_Code (2)\\\\Starter_Code\\\\PyBank\\\\Resources\\\\budget_data.csv\"\n"
   ]
  },
  {
   "cell_type": "code",
   "execution_count": 168,
   "id": "f316379a",
   "metadata": {},
   "outputs": [
    {
     "data": {
      "text/html": [
       "<div>\n",
       "<style scoped>\n",
       "    .dataframe tbody tr th:only-of-type {\n",
       "        vertical-align: middle;\n",
       "    }\n",
       "\n",
       "    .dataframe tbody tr th {\n",
       "        vertical-align: top;\n",
       "    }\n",
       "\n",
       "    .dataframe thead th {\n",
       "        text-align: right;\n",
       "    }\n",
       "</style>\n",
       "<table border=\"1\" class=\"dataframe\">\n",
       "  <thead>\n",
       "    <tr style=\"text-align: right;\">\n",
       "      <th></th>\n",
       "      <th>Date</th>\n",
       "      <th>Profit/Losses</th>\n",
       "    </tr>\n",
       "  </thead>\n",
       "  <tbody>\n",
       "    <tr>\n",
       "      <th>0</th>\n",
       "      <td>Jan-2010</td>\n",
       "      <td>867884</td>\n",
       "    </tr>\n",
       "    <tr>\n",
       "      <th>1</th>\n",
       "      <td>Feb-2010</td>\n",
       "      <td>984655</td>\n",
       "    </tr>\n",
       "    <tr>\n",
       "      <th>2</th>\n",
       "      <td>Mar-2010</td>\n",
       "      <td>322013</td>\n",
       "    </tr>\n",
       "    <tr>\n",
       "      <th>3</th>\n",
       "      <td>Apr-2010</td>\n",
       "      <td>-69417</td>\n",
       "    </tr>\n",
       "    <tr>\n",
       "      <th>4</th>\n",
       "      <td>May-2010</td>\n",
       "      <td>310503</td>\n",
       "    </tr>\n",
       "  </tbody>\n",
       "</table>\n",
       "</div>"
      ],
      "text/plain": [
       "       Date  Profit/Losses\n",
       "0  Jan-2010         867884\n",
       "1  Feb-2010         984655\n",
       "2  Mar-2010         322013\n",
       "3  Apr-2010         -69417\n",
       "4  May-2010         310503"
      ]
     },
     "execution_count": 168,
     "metadata": {},
     "output_type": "execute_result"
    }
   ],
   "source": [
    "budget_data = pd.read_csv(path)\n",
    "budget_data.head()"
   ]
  },
  {
   "cell_type": "markdown",
   "id": "a39da1ba",
   "metadata": {},
   "source": [
    "# 2. make a copy of original Dataframe"
   ]
  },
  {
   "cell_type": "code",
   "execution_count": 169,
   "id": "67f717f1",
   "metadata": {},
   "outputs": [],
   "source": [
    "DF_b = budget_data.copy()"
   ]
  },
  {
   "cell_type": "code",
   "execution_count": 170,
   "id": "7303a104",
   "metadata": {},
   "outputs": [
    {
     "data": {
      "text/html": [
       "<div>\n",
       "<style scoped>\n",
       "    .dataframe tbody tr th:only-of-type {\n",
       "        vertical-align: middle;\n",
       "    }\n",
       "\n",
       "    .dataframe tbody tr th {\n",
       "        vertical-align: top;\n",
       "    }\n",
       "\n",
       "    .dataframe thead th {\n",
       "        text-align: right;\n",
       "    }\n",
       "</style>\n",
       "<table border=\"1\" class=\"dataframe\">\n",
       "  <thead>\n",
       "    <tr style=\"text-align: right;\">\n",
       "      <th></th>\n",
       "      <th>Profit/Losses</th>\n",
       "    </tr>\n",
       "    <tr>\n",
       "      <th>Date</th>\n",
       "      <th></th>\n",
       "    </tr>\n",
       "  </thead>\n",
       "  <tbody>\n",
       "    <tr>\n",
       "      <th>Oct-2016</th>\n",
       "      <td>102685</td>\n",
       "    </tr>\n",
       "    <tr>\n",
       "      <th>Nov-2016</th>\n",
       "      <td>795914</td>\n",
       "    </tr>\n",
       "    <tr>\n",
       "      <th>Dec-2016</th>\n",
       "      <td>60988</td>\n",
       "    </tr>\n",
       "    <tr>\n",
       "      <th>Jan-2017</th>\n",
       "      <td>138230</td>\n",
       "    </tr>\n",
       "    <tr>\n",
       "      <th>Feb-2017</th>\n",
       "      <td>671099</td>\n",
       "    </tr>\n",
       "  </tbody>\n",
       "</table>\n",
       "</div>"
      ],
      "text/plain": [
       "          Profit/Losses\n",
       "Date                   \n",
       "Oct-2016         102685\n",
       "Nov-2016         795914\n",
       "Dec-2016          60988\n",
       "Jan-2017         138230\n",
       "Feb-2017         671099"
      ]
     },
     "execution_count": 170,
     "metadata": {},
     "output_type": "execute_result"
    }
   ],
   "source": [
    "DF_b_d = DF_b.set_index(\"Date\")\n",
    "DF_b_d.tail()"
   ]
  },
  {
   "cell_type": "code",
   "execution_count": 171,
   "id": "8c50c7ad",
   "metadata": {},
   "outputs": [
    {
     "data": {
      "text/plain": [
       "Profit/Losses    int64\n",
       "dtype: object"
      ]
     },
     "execution_count": 171,
     "metadata": {},
     "output_type": "execute_result"
    }
   ],
   "source": [
    "DF_b_d.dtypes"
   ]
  },
  {
   "cell_type": "markdown",
   "id": "61f62750",
   "metadata": {},
   "source": [
    "# Calculations"
   ]
  },
  {
   "cell_type": "code",
   "execution_count": 172,
   "id": "6edf5956",
   "metadata": {},
   "outputs": [
    {
     "data": {
      "text/plain": [
       "86"
      ]
     },
     "execution_count": 172,
     "metadata": {},
     "output_type": "execute_result"
    }
   ],
   "source": [
    "#   Total Months: 86\n",
    "Total_Months = len(DF_b_d)\n",
    "Total_Months"
   ]
  },
  {
   "cell_type": "code",
   "execution_count": 173,
   "id": "864de6d1",
   "metadata": {},
   "outputs": [
    {
     "data": {
      "text/plain": [
       "38382578"
      ]
     },
     "execution_count": 173,
     "metadata": {},
     "output_type": "execute_result"
    }
   ],
   "source": [
    "#   Total: $38382578\n",
    "Total = DF_b_d[\"Profit/Losses\"].sum()\n",
    "Total "
   ]
  },
  {
   "cell_type": "code",
   "execution_count": 252,
   "id": "cfc11c93",
   "metadata": {},
   "outputs": [],
   "source": [
    "# Create an empy lists to store data in them  \n",
    "Total_Months = []\n",
    "Total = []"
   ]
  },
  {
   "cell_type": "code",
   "execution_count": 254,
   "id": "54232ef0",
   "metadata": {},
   "outputs": [],
   "source": [
    "# open csv file, eliminate headers than loop through entire rows and store into list each items needed \n",
    "with open(path,'r') as file:\n",
    "    reader = csv.reader(file)\n",
    "    headers = next(reader)\n",
    "    for row in reader:\n",
    "        Total_Months.append(row[0])\n",
    "        Total.append(int(row[1]))\n",
    "        #print(row[0])\n",
    "        #print(row[1]\n",
    "   \n"
   ]
  },
  {
   "cell_type": "code",
   "execution_count": 255,
   "id": "0b3ff5cc",
   "metadata": {},
   "outputs": [
    {
     "name": "stdout",
     "output_type": "stream",
     "text": [
      "38382578\n"
     ]
    }
   ],
   "source": [
    "# Loop Through Profits/Losses list \n",
    "totalProf= 0\n",
    "for j in Total:\n",
    "    totalProf = j + totalProf\n",
    "print(totalProf)\n",
    "  "
   ]
  },
  {
   "cell_type": "code",
   "execution_count": 256,
   "id": "8e6e20ad",
   "metadata": {},
   "outputs": [],
   "source": [
    "#   Average  Change: $-2315.12\n",
    "# row (next row - current row) ---"
   ]
  },
  {
   "cell_type": "code",
   "execution_count": 257,
   "id": "20a4ed64",
   "metadata": {},
   "outputs": [
    {
     "data": {
      "text/plain": [
       "86"
      ]
     },
     "execution_count": 257,
     "metadata": {},
     "output_type": "execute_result"
    }
   ],
   "source": [
    "len(Total)\n"
   ]
  },
  {
   "cell_type": "code",
   "execution_count": 259,
   "id": "40d0ebac",
   "metadata": {},
   "outputs": [],
   "source": [
    "# profits/Losses change\n",
    "# using list comprehention to create a new list\n",
    "ProfLossChange = [Total[i+1] - Total[i] for i in range(0,len(Total)-1)]\n",
    "\n"
   ]
  },
  {
   "cell_type": "code",
   "execution_count": 260,
   "id": "5917b5d7",
   "metadata": {},
   "outputs": [
    {
     "name": "stdout",
     "output_type": "stream",
     "text": [
      "[116771, -662642, -391430, 379920, 212354, 510239, -428211, -821271, 693918, 416278, -974163, 860159, -1115009, 1033048, 95318, -308093, 99052, -521393, 605450, 231727, -65187, -702716, 177975, -1065544, 1926159, -917805, 898730, -334262, -246499, -64055, -1529236, 1497596, 304914, -635801, 398319, -183161, -37864, -253689, 403655, 94168, 306877, -83000, 210462, -2196167, 1465222, -956983, 1838447, -468003, -64602, 206242, -242155, -449079, 315198, 241099, 111540, 365942, -219310, -368665, 409837, 151210, -110244, -341938, -1212159, 683246, -70825, 335594, 417334, -272194, -236462, 657432, -211262, -128237, -1750387, 925441, 932089, -311434, 267252, -1876758, 1733696, 198551, -665765, 693229, -734926, 77242, 532869]\n"
     ]
    }
   ],
   "source": [
    "print(ProfLossChange)"
   ]
  },
  {
   "cell_type": "code",
   "execution_count": 241,
   "id": "8239c89a",
   "metadata": {},
   "outputs": [
    {
     "data": {
      "text/plain": [
       "85"
      ]
     },
     "execution_count": 241,
     "metadata": {},
     "output_type": "execute_result"
    }
   ],
   "source": [
    "len(ProfLossChange)"
   ]
  },
  {
   "cell_type": "code",
   "execution_count": 284,
   "id": "33e122a8",
   "metadata": {},
   "outputs": [
    {
     "data": {
      "text/plain": [
       "-2315.1176470588234"
      ]
     },
     "execution_count": 284,
     "metadata": {},
     "output_type": "execute_result"
    }
   ],
   "source": [
    "# average change\n",
    "average_change = sum(ProfLossChange)/len(ProfLossChange)\n",
    "average_change\n",
    "    \n",
    "    "
   ]
  },
  {
   "cell_type": "code",
   "execution_count": 244,
   "id": "ee43d2db",
   "metadata": {},
   "outputs": [],
   "source": [
    "#   Greatest Increase in Profits: Feb-2012 ($1926159)\n",
    "#   Greatest Decrease in Profits: Sep-2013 ($-2196167)"
   ]
  },
  {
   "cell_type": "code",
   "execution_count": 277,
   "id": "84d178ea",
   "metadata": {},
   "outputs": [
    {
     "data": {
      "text/plain": [
       "1926159"
      ]
     },
     "execution_count": 277,
     "metadata": {},
     "output_type": "execute_result"
    }
   ],
   "source": [
    "max(ProfLossChange)"
   ]
  },
  {
   "cell_type": "code",
   "execution_count": 278,
   "id": "9d6ae747",
   "metadata": {},
   "outputs": [
    {
     "data": {
      "text/plain": [
       "-2196167"
      ]
     },
     "execution_count": 278,
     "metadata": {},
     "output_type": "execute_result"
    }
   ],
   "source": [
    "min(ProfLossChange)"
   ]
  }
 ],
 "metadata": {
  "kernelspec": {
   "display_name": "Python 3 (ipykernel)",
   "language": "python",
   "name": "python3"
  },
  "language_info": {
   "codemirror_mode": {
    "name": "ipython",
    "version": 3
   },
   "file_extension": ".py",
   "mimetype": "text/x-python",
   "name": "python",
   "nbconvert_exporter": "python",
   "pygments_lexer": "ipython3",
   "version": "3.9.12"
  }
 },
 "nbformat": 4,
 "nbformat_minor": 5
}
