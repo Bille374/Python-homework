{
 "cells": [
  {
   "cell_type": "code",
   "execution_count": 29,
   "id": "087428eb",
   "metadata": {},
   "outputs": [],
   "source": [
    "import pandas as pd\n",
    "import csv\n",
    "from pathlib import Path\n",
    "from csv import reader"
   ]
  },
  {
   "cell_type": "markdown",
   "id": "38c103cb",
   "metadata": {},
   "source": [
    "# 2.Menu_data\n",
    "1. Part 1:\n",
    "  - Read the data\n",
    "   "
   ]
  },
  {
   "cell_type": "code",
   "execution_count": 30,
   "id": "11230189",
   "metadata": {},
   "outputs": [
    {
     "data": {
      "text/plain": [
       "'C:\\\\Users\\\\eszczepalink\\\\Downloads\\\\Starter_Code (2)\\\\Starter_Code\\\\PyRamen\\\\Resources'"
      ]
     },
     "execution_count": 30,
     "metadata": {},
     "output_type": "execute_result"
    }
   ],
   "source": [
    "pwd"
   ]
  },
  {
   "cell_type": "code",
   "execution_count": 31,
   "id": "b68b4d60",
   "metadata": {},
   "outputs": [
    {
     "name": "stdout",
     "output_type": "stream",
     "text": [
      " Volume in drive C is OS\n",
      " Volume Serial Number is C454-A3F0\n",
      "\n",
      " Directory of C:\\Users\\eszczepalink\\Downloads\\Starter_Code (2)\\Starter_Code\\PyRamen\\Resources\n",
      "\n",
      "07/13/2022  03:06 PM    <DIR>          .\n",
      "07/13/2022  07:23 AM    <DIR>          ..\n",
      "07/13/2022  01:22 PM    <DIR>          .ipynb_checkpoints\n",
      "07/13/2022  07:23 AM             4,132 menu_data.csv\n",
      "07/13/2022  01:32 PM             6,188 Py_Ramen.ipynb\n",
      "07/13/2022  07:23 AM         4,306,311 sales_data.csv\n",
      "07/13/2022  03:06 PM            19,052 Untitled.ipynb\n",
      "               4 File(s)      4,335,683 bytes\n",
      "               3 Dir(s)  247,256,092,672 bytes free\n"
     ]
    }
   ],
   "source": [
    "ls"
   ]
  },
  {
   "cell_type": "code",
   "execution_count": 32,
   "id": "adac7301",
   "metadata": {},
   "outputs": [],
   "source": [
    "Path =\"C:\\\\Users\\\\eszczepalink\\\\Downloads\\\\Starter_Code (2)\\\\Starter_Code\\\\PyRamen\\\\Resources\\\\menu_data.csv\""
   ]
  },
  {
   "cell_type": "code",
   "execution_count": 33,
   "id": "eac9a390",
   "metadata": {},
   "outputs": [
    {
     "data": {
      "text/html": [
       "<div>\n",
       "<style scoped>\n",
       "    .dataframe tbody tr th:only-of-type {\n",
       "        vertical-align: middle;\n",
       "    }\n",
       "\n",
       "    .dataframe tbody tr th {\n",
       "        vertical-align: top;\n",
       "    }\n",
       "\n",
       "    .dataframe thead th {\n",
       "        text-align: right;\n",
       "    }\n",
       "</style>\n",
       "<table border=\"1\" class=\"dataframe\">\n",
       "  <thead>\n",
       "    <tr style=\"text-align: right;\">\n",
       "      <th></th>\n",
       "      <th>item</th>\n",
       "      <th>category</th>\n",
       "      <th>description</th>\n",
       "      <th>price</th>\n",
       "      <th>cost</th>\n",
       "    </tr>\n",
       "  </thead>\n",
       "  <tbody>\n",
       "    <tr>\n",
       "      <th>0</th>\n",
       "      <td>edamame</td>\n",
       "      <td>appetizers</td>\n",
       "      <td>boiled soybeans, maldon sea salt</td>\n",
       "      <td>4.0</td>\n",
       "      <td>1</td>\n",
       "    </tr>\n",
       "    <tr>\n",
       "      <th>1</th>\n",
       "      <td>house salad</td>\n",
       "      <td>appetizers</td>\n",
       "      <td>mixed greens, cherry tomatoes, cucumber, house...</td>\n",
       "      <td>4.0</td>\n",
       "      <td>2</td>\n",
       "    </tr>\n",
       "    <tr>\n",
       "      <th>2</th>\n",
       "      <td>cucumber sunomono salad</td>\n",
       "      <td>appetizers</td>\n",
       "      <td>cucumber, ponzu dressing, pickled ginger sprou...</td>\n",
       "      <td>5.0</td>\n",
       "      <td>2</td>\n",
       "    </tr>\n",
       "    <tr>\n",
       "      <th>3</th>\n",
       "      <td>hiyashi wakame seaweed salad</td>\n",
       "      <td>appetizers</td>\n",
       "      <td>sweet soy-marinated wakame seaweed threads, pi...</td>\n",
       "      <td>5.0</td>\n",
       "      <td>2</td>\n",
       "    </tr>\n",
       "    <tr>\n",
       "      <th>4</th>\n",
       "      <td>agedashi tofu</td>\n",
       "      <td>appetizers</td>\n",
       "      <td>tempura battered tofu, katsuobushi, tsuyu brot...</td>\n",
       "      <td>5.0</td>\n",
       "      <td>2</td>\n",
       "    </tr>\n",
       "  </tbody>\n",
       "</table>\n",
       "</div>"
      ],
      "text/plain": [
       "                           item    category  \\\n",
       "0                       edamame  appetizers   \n",
       "1                   house salad  appetizers   \n",
       "2       cucumber sunomono salad  appetizers   \n",
       "3  hiyashi wakame seaweed salad  appetizers   \n",
       "4                 agedashi tofu  appetizers   \n",
       "\n",
       "                                         description  price  cost  \n",
       "0                   boiled soybeans, maldon sea salt    4.0     1  \n",
       "1  mixed greens, cherry tomatoes, cucumber, house...    4.0     2  \n",
       "2  cucumber, ponzu dressing, pickled ginger sprou...    5.0     2  \n",
       "3  sweet soy-marinated wakame seaweed threads, pi...    5.0     2  \n",
       "4  tempura battered tofu, katsuobushi, tsuyu brot...    5.0     2  "
      ]
     },
     "execution_count": 33,
     "metadata": {},
     "output_type": "execute_result"
    }
   ],
   "source": [
    "menu_data = pd.read_csv(\"menu_data.csv\").head()\n",
    "menu_data"
   ]
  },
  {
   "cell_type": "code",
   "execution_count": 34,
   "id": "fe7793c1",
   "metadata": {},
   "outputs": [
    {
     "data": {
      "text/plain": [
       "item            object\n",
       "category        object\n",
       "description     object\n",
       "price          float64\n",
       "cost             int64\n",
       "dtype: object"
      ]
     },
     "execution_count": 34,
     "metadata": {},
     "output_type": "execute_result"
    }
   ],
   "source": [
    "pd.read_csv(\"menu_data.csv\").head().dtypes"
   ]
  },
  {
   "cell_type": "code",
   "execution_count": 35,
   "id": "3180724e",
   "metadata": {},
   "outputs": [
    {
     "data": {
      "text/plain": [
       "Index(['item', 'category', 'description', 'price', 'cost'], dtype='object')"
      ]
     },
     "execution_count": 35,
     "metadata": {},
     "output_type": "execute_result"
    }
   ],
   "source": [
    "pd.read_csv(\"menu_data.csv\").columns"
   ]
  },
  {
   "cell_type": "code",
   "execution_count": 36,
   "id": "855fafe2",
   "metadata": {},
   "outputs": [],
   "source": [
    "menu = []\n",
    "with open(Path, 'r') as file:\n",
    "    reader = csv.reader(file)\n",
    "    headers = next(reader)\n",
    "    for row in reader:\n",
    "        menu.append(row)\n",
    "#print(menu_data)"
   ]
  },
  {
   "cell_type": "markdown",
   "id": "71b9cb4d",
   "metadata": {},
   "source": [
    "# 2.Sales_data\n",
    "1. Part 1:\n",
    "  - Read the data"
   ]
  },
  {
   "cell_type": "code",
   "execution_count": 5,
   "id": "4e292d5a",
   "metadata": {},
   "outputs": [],
   "source": [
    "Path =\"C:\\\\Users\\\\eszczepalink\\\\Downloads\\\\Starter_Code (2)\\\\Starter_Code\\\\PyRamen\\\\Resources\\\\sales_data.csv\""
   ]
  },
  {
   "cell_type": "code",
   "execution_count": 6,
   "id": "1d247b36",
   "metadata": {},
   "outputs": [
    {
     "data": {
      "text/html": [
       "<div>\n",
       "<style scoped>\n",
       "    .dataframe tbody tr th:only-of-type {\n",
       "        vertical-align: middle;\n",
       "    }\n",
       "\n",
       "    .dataframe tbody tr th {\n",
       "        vertical-align: top;\n",
       "    }\n",
       "\n",
       "    .dataframe thead th {\n",
       "        text-align: right;\n",
       "    }\n",
       "</style>\n",
       "<table border=\"1\" class=\"dataframe\">\n",
       "  <thead>\n",
       "    <tr style=\"text-align: right;\">\n",
       "      <th></th>\n",
       "      <th>Line_Item_ID</th>\n",
       "      <th>Date</th>\n",
       "      <th>Credit_Card_Number</th>\n",
       "      <th>Quantity</th>\n",
       "      <th>Menu_Item</th>\n",
       "    </tr>\n",
       "  </thead>\n",
       "  <tbody>\n",
       "    <tr>\n",
       "      <th>0</th>\n",
       "      <td>1</td>\n",
       "      <td>01-01-2017</td>\n",
       "      <td>7437926611570799</td>\n",
       "      <td>1</td>\n",
       "      <td>spicy miso ramen</td>\n",
       "    </tr>\n",
       "    <tr>\n",
       "      <th>1</th>\n",
       "      <td>2</td>\n",
       "      <td>01-01-2017</td>\n",
       "      <td>7437926611570799</td>\n",
       "      <td>1</td>\n",
       "      <td>spicy miso ramen</td>\n",
       "    </tr>\n",
       "    <tr>\n",
       "      <th>2</th>\n",
       "      <td>3</td>\n",
       "      <td>01-01-2017</td>\n",
       "      <td>8421920068932819</td>\n",
       "      <td>3</td>\n",
       "      <td>tori paitan ramen</td>\n",
       "    </tr>\n",
       "    <tr>\n",
       "      <th>3</th>\n",
       "      <td>4</td>\n",
       "      <td>01-01-2017</td>\n",
       "      <td>8421920068932819</td>\n",
       "      <td>3</td>\n",
       "      <td>tori paitan ramen</td>\n",
       "    </tr>\n",
       "    <tr>\n",
       "      <th>4</th>\n",
       "      <td>5</td>\n",
       "      <td>01-01-2017</td>\n",
       "      <td>4787310681569648</td>\n",
       "      <td>1</td>\n",
       "      <td>truffle butter ramen</td>\n",
       "    </tr>\n",
       "  </tbody>\n",
       "</table>\n",
       "</div>"
      ],
      "text/plain": [
       "   Line_Item_ID        Date  Credit_Card_Number  Quantity  \\\n",
       "0             1  01-01-2017    7437926611570799         1   \n",
       "1             2  01-01-2017    7437926611570799         1   \n",
       "2             3  01-01-2017    8421920068932819         3   \n",
       "3             4  01-01-2017    8421920068932819         3   \n",
       "4             5  01-01-2017    4787310681569648         1   \n",
       "\n",
       "              Menu_Item  \n",
       "0      spicy miso ramen  \n",
       "1      spicy miso ramen  \n",
       "2     tori paitan ramen  \n",
       "3     tori paitan ramen  \n",
       "4  truffle butter ramen  "
      ]
     },
     "execution_count": 6,
     "metadata": {},
     "output_type": "execute_result"
    }
   ],
   "source": [
    "sales_data = pd.read_csv(\"sales_data.csv\").head()\n",
    "sales_data"
   ]
  },
  {
   "cell_type": "code",
   "execution_count": 7,
   "id": "2993f01e",
   "metadata": {},
   "outputs": [
    {
     "data": {
      "text/plain": [
       "Line_Item_ID           int64\n",
       "Date                  object\n",
       "Credit_Card_Number     int64\n",
       "Quantity               int64\n",
       "Menu_Item             object\n",
       "dtype: object"
      ]
     },
     "execution_count": 7,
     "metadata": {},
     "output_type": "execute_result"
    }
   ],
   "source": [
    "pd.read_csv(\"sales_data.csv\").head().dtypes"
   ]
  },
  {
   "cell_type": "code",
   "execution_count": 8,
   "id": "085e9bb3",
   "metadata": {},
   "outputs": [
    {
     "data": {
      "text/plain": [
       "Index(['Line_Item_ID', 'Date', 'Credit_Card_Number', 'Quantity', 'Menu_Item'], dtype='object')"
      ]
     },
     "execution_count": 8,
     "metadata": {},
     "output_type": "execute_result"
    }
   ],
   "source": [
    "pd.read_csv(\"sales_data.csv\").columns"
   ]
  },
  {
   "cell_type": "code",
   "execution_count": 9,
   "id": "6588a507",
   "metadata": {},
   "outputs": [],
   "source": [
    "sales = []\n",
    "with open(Path, 'r') as file:\n",
    "    reader = csv.reader(file)\n",
    "    headers = next(reader)\n",
    "    for row in reader:\n",
    "        sales.append(row)\n",
    "#print(sales_data)"
   ]
  },
  {
   "cell_type": "markdown",
   "id": "2876534d",
   "metadata": {},
   "source": [
    "# 2. Manipulate the Data\n"
   ]
  },
  {
   "cell_type": "code",
   "execution_count": 10,
   "id": "df8fc4b2",
   "metadata": {},
   "outputs": [],
   "source": [
    "report = {\"01-count\":\"the total quality for each ramen type\",\n",
    "          \"02-revenue\": \"the total revenue for each ramen type\",\n",
    "          \"03-cogs\":\"the total cost of goods sold for each ramen type\",\n",
    "          \"04-profit\": \"the total profit for each ramen type\"}"
   ]
  },
  {
   "cell_type": "code",
   "execution_count": 12,
   "id": "b4caf2de",
   "metadata": {},
   "outputs": [
    {
     "name": "stdout",
     "output_type": "stream",
     "text": [
      "['Line_Item_ID', 'Date', 'Credit_Card_Number', 'Quantity', 'Menu_Item']\n"
     ]
    }
   ],
   "source": [
    "# looping through every row in sales list object\n",
    "Quantity = []\n",
    "Menu_Item = []\n",
    "for row in sales:\n",
    "    Quantity.append(row)\n",
    "    Menu_Item.append(row)\n",
    "print(Quantity )   "
   ]
  },
  {
   "cell_type": "code",
   "execution_count": 24,
   "id": "16393677",
   "metadata": {},
   "outputs": [
    {
     "data": {
      "text/plain": [
       "dict_items([('01-count', 'the total quality for each ramen type'), ('02-revenue', 'the total revenue for each ramen type'), ('03-cogs', 'the total cost of goods sold for each ramen type'), ('04-profit', 'the total profit for each ramen type')])"
      ]
     },
     "execution_count": 24,
     "metadata": {},
     "output_type": "execute_result"
    }
   ],
   "source": [
    "# check if sales_item including in report\n",
    "report.items()"
   ]
  },
  {
   "cell_type": "code",
   "execution_count": 25,
   "id": "08d298e8",
   "metadata": {},
   "outputs": [
    {
     "data": {
      "text/html": [
       "<div>\n",
       "<style scoped>\n",
       "    .dataframe tbody tr th:only-of-type {\n",
       "        vertical-align: middle;\n",
       "    }\n",
       "\n",
       "    .dataframe tbody tr th {\n",
       "        vertical-align: top;\n",
       "    }\n",
       "\n",
       "    .dataframe thead th {\n",
       "        text-align: right;\n",
       "    }\n",
       "</style>\n",
       "<table border=\"1\" class=\"dataframe\">\n",
       "  <thead>\n",
       "    <tr style=\"text-align: right;\">\n",
       "      <th></th>\n",
       "      <th>Line_Item_ID</th>\n",
       "      <th>Date</th>\n",
       "      <th>Credit_Card_Number</th>\n",
       "      <th>Quantity</th>\n",
       "      <th>Menu_Item</th>\n",
       "    </tr>\n",
       "  </thead>\n",
       "  <tbody>\n",
       "    <tr>\n",
       "      <th>0</th>\n",
       "      <td>1</td>\n",
       "      <td>01-01-2017</td>\n",
       "      <td>7437926611570799</td>\n",
       "      <td>1</td>\n",
       "      <td>spicy miso ramen</td>\n",
       "    </tr>\n",
       "    <tr>\n",
       "      <th>1</th>\n",
       "      <td>2</td>\n",
       "      <td>01-01-2017</td>\n",
       "      <td>7437926611570799</td>\n",
       "      <td>1</td>\n",
       "      <td>spicy miso ramen</td>\n",
       "    </tr>\n",
       "    <tr>\n",
       "      <th>2</th>\n",
       "      <td>3</td>\n",
       "      <td>01-01-2017</td>\n",
       "      <td>8421920068932819</td>\n",
       "      <td>3</td>\n",
       "      <td>tori paitan ramen</td>\n",
       "    </tr>\n",
       "    <tr>\n",
       "      <th>3</th>\n",
       "      <td>4</td>\n",
       "      <td>01-01-2017</td>\n",
       "      <td>8421920068932819</td>\n",
       "      <td>3</td>\n",
       "      <td>tori paitan ramen</td>\n",
       "    </tr>\n",
       "    <tr>\n",
       "      <th>4</th>\n",
       "      <td>5</td>\n",
       "      <td>01-01-2017</td>\n",
       "      <td>4787310681569648</td>\n",
       "      <td>1</td>\n",
       "      <td>truffle butter ramen</td>\n",
       "    </tr>\n",
       "  </tbody>\n",
       "</table>\n",
       "</div>"
      ],
      "text/plain": [
       "   Line_Item_ID        Date  Credit_Card_Number  Quantity  \\\n",
       "0             1  01-01-2017    7437926611570799         1   \n",
       "1             2  01-01-2017    7437926611570799         1   \n",
       "2             3  01-01-2017    8421920068932819         3   \n",
       "3             4  01-01-2017    8421920068932819         3   \n",
       "4             5  01-01-2017    4787310681569648         1   \n",
       "\n",
       "              Menu_Item  \n",
       "0      spicy miso ramen  \n",
       "1      spicy miso ramen  \n",
       "2     tori paitan ramen  \n",
       "3     tori paitan ramen  \n",
       "4  truffle butter ramen  "
      ]
     },
     "execution_count": 25,
     "metadata": {},
     "output_type": "execute_result"
    }
   ],
   "source": [
    "sales_data"
   ]
  },
  {
   "cell_type": "code",
   "execution_count": null,
   "id": "bee19430",
   "metadata": {},
   "outputs": [],
   "source": [
    "sales_item = {\"01-count\":\"the total quality for each ramen type\"}"
   ]
  },
  {
   "cell_type": "code",
   "execution_count": 28,
   "id": "abed6f55",
   "metadata": {},
   "outputs": [],
   "source": [
    "\n",
    "               new_report = {\"sales_item\":{\"01-count\":\"the total quality for each ramen type\",\n",
    "          \"02-revenue\": \"the total revenue for each ramen type\",\n",
    "          \"03-cogs\":\"the total cost of goods sold for each ramen type\",\n",
    "          \"04-profit\": \"the total profit for each ramen type\"},\n",
    "                \"values\":{\n",
    "                        \"01-count\": 0,\n",
    "                         \"02-revenue\": 0,\n",
    "                         \"03-cogs\": 0,\n",
    "                         \"04-profit\": 0,\n",
    "                    \n",
    "                }}"
   ]
  },
  {
   "cell_type": "code",
   "execution_count": null,
   "id": "13fc947e",
   "metadata": {},
   "outputs": [],
   "source": [
    "# looping through  row menu "
   ]
  },
  {
   "cell_type": "code",
   "execution_count": 38,
   "id": "2ef1f5b6",
   "metadata": {},
   "outputs": [],
   "source": [
    "menu = []\n",
    "for row in menu:\n",
    "    Item.append(row)\n",
    "    Price.append(row)\n",
    "    Cost.appent(row)\n",
    "    "
   ]
  }
 ],
 "metadata": {
  "kernelspec": {
   "display_name": "Python 3 (ipykernel)",
   "language": "python",
   "name": "python3"
  },
  "language_info": {
   "codemirror_mode": {
    "name": "ipython",
    "version": 3
   },
   "file_extension": ".py",
   "mimetype": "text/x-python",
   "name": "python",
   "nbconvert_exporter": "python",
   "pygments_lexer": "ipython3",
   "version": "3.9.12"
  }
 },
 "nbformat": 4,
 "nbformat_minor": 5
}
